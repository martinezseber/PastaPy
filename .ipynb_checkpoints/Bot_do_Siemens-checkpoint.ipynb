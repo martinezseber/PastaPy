{
 "cells": [
  {
   "cell_type": "code",
   "execution_count": 147,
   "id": "c3dcc683-1e78-46c6-b6f1-115af946b1df",
   "metadata": {},
   "outputs": [],
   "source": [
    "import pyautogui\n",
    "import time\n",
    "import tkinter as tk\n",
    "from tkinter import messagebox"
   ]
  },
  {
   "cell_type": "code",
   "execution_count": 11,
   "id": "c3bd4033-a8bd-43df-b50e-e474d37887ba",
   "metadata": {},
   "outputs": [],
   "source": [
    "pyautogui.PAUSE=2\n",
    "pyautogui.press(\"win\")\n",
    "pyautogui.write(\"notepad\")\n",
    "pyautogui.press(\"enter\")"
   ]
  },
  {
   "cell_type": "code",
   "execution_count": 191,
   "id": "8ce737fe-001d-4840-9908-37690a4be99b",
   "metadata": {},
   "outputs": [
    {
     "data": {
      "text/plain": [
       "Point(x=-1012, y=792)"
      ]
     },
     "execution_count": 191,
     "metadata": {},
     "output_type": "execute_result"
    }
   ],
   "source": [
    "time.sleep(3)\n",
    "pyautogui.position()"
   ]
  },
  {
   "cell_type": "code",
   "execution_count": 164,
   "id": "98403363-36a8-4f2a-add1-a2b2a1938168",
   "metadata": {},
   "outputs": [],
   "source": [
    "#presets para ajuste da caixa de tipo de passo\n",
    "coordy=171\n",
    "xinicio=-1252\n",
    "yinicio=169"
   ]
  },
  {
   "cell_type": "code",
   "execution_count": null,
   "id": "4b8b51be-e8e6-4282-a09a-28d29ebcbad0",
   "metadata": {},
   "outputs": [],
   "source": [
    "indice=2\n",
    "numero=\"0\"\n",
    "while indice<16:\n",
    "    numero=str(indice)\n",
    "    print(coordy) \n",
    "    pyautogui.click(x=-1251,y=coordy,duration=0.3) \n",
    "    time.sleep(0.5) \n",
    "    pyautogui.doubleClick(x=-1000,y=814,interval=0.5)\n",
    "    time.sleep(1)  \n",
    "    pyautogui.press(\"end\") \n",
    "    pyautogui.press(\"backspace\") \n",
    "    if indice>9:\n",
    "        valor1=indice-10\n",
    "        numero=str(valor1)\n",
    "        pyautogui.write(\"1\")\n",
    "        pyautogui.write(numero)\n",
    "    else:\n",
    "        pyautogui.write(numero)\n",
    "    \n",
    "    pyautogui.press(\"enter\")\n",
    "    indice=indice+1\n",
    "    coordy=coordy+33 \n",
    "print('Acabou')"
   ]
  },
  {
   "cell_type": "code",
   "execution_count": 148,
   "id": "94a14d55-a2fc-4912-b4c9-5d62e300a6aa",
   "metadata": {},
   "outputs": [],
   "source": [
    "root= tk.Tk()\n",
    "root.withdraw()\n",
    "messagebox.showinfo(\"Interação\",\"Clique sobre o campo inicial\")\n",
    "root.destroy()"
   ]
  },
  {
   "cell_type": "code",
   "execution_count": 161,
   "id": "eb82f212-b056-450f-83ed-5ae9f18fb8a9",
   "metadata": {},
   "outputs": [],
   "source": [
    "#presets para ajuste da caixa de fim de ciclo\n",
    "xinicio=-514\n",
    "yinicio=170\n",
    "coordy=yinicio\n",
    "xaltera=-434\n",
    "yaltera=765"
   ]
  },
  {
   "cell_type": "code",
   "execution_count": 162,
   "id": "0ebeb974-d2da-400e-8566-c86e624fc289",
   "metadata": {},
   "outputs": [
    {
     "name": "stdout",
     "output_type": "stream",
     "text": [
      "Acabou\n"
     ]
    }
   ],
   "source": [
    "indice=2\n",
    "numero=\"0\"\n",
    "while indice<16:\n",
    "    numero=str(indice)\n",
    "    pyautogui.click(x=xinicio,y=coordy,duration=0.2) \n",
    "    time.sleep(0.2) \n",
    "    pyautogui.doubleClick(x=xaltera,y=yaltera,interval=0.2)\n",
    "    time.sleep(0.2)  \n",
    "    pyautogui.press(\"end\") \n",
    "    pyautogui.press(\"backspace\") \n",
    "    if indice>9:\n",
    "        #pyautogui.press(\"backspace\") \n",
    "        valor1=indice-10\n",
    "        numero=str(valor1)\n",
    "        pyautogui.write(\"1\")\n",
    "        pyautogui.write(numero)\n",
    "    else:\n",
    "        pyautogui.write(numero)\n",
    "   #print(coordy)\n",
    "    pyautogui.press(\"enter\")\n",
    "    indice=indice+1\n",
    "    coordy=coordy+33 \n",
    "print('Acabou')"
   ]
  },
  {
   "cell_type": "code",
   "execution_count": 209,
   "id": "c8553c79-17a7-49b6-84eb-8fff1546b9ee",
   "metadata": {},
   "outputs": [],
   "source": [
    "#preset para ajuste de objeto de numeros da receita\n",
    "xinicio=-801\n",
    "yinicio=170\n",
    "coordy=yinicio\n",
    "xaltera=-1005\n",
    "yaltera=790"
   ]
  },
  {
   "cell_type": "code",
   "execution_count": 210,
   "id": "d5c38d68-fc2c-4a91-b9f5-69d64e0a592a",
   "metadata": {},
   "outputs": [
    {
     "name": "stdout",
     "output_type": "stream",
     "text": [
      "Acabou\n"
     ]
    }
   ],
   "source": [
    "indice=1\n",
    "numero=\"0\"\n",
    "while indice<16:\n",
    "    numero=str(indice)\n",
    "    pyautogui.click(x=xinicio,y=coordy,duration=0.2) \n",
    "    time.sleep(0.2) \n",
    "    pyautogui.doubleClick(x=xaltera,y=yaltera,interval=0.5)\n",
    "    time.sleep(0.2)  \n",
    "    #pyautogui.press(\"enter\")\n",
    "    #pyautogui.write(\"DB_Receita_Edit_R_TemperaturadaCamara\")\n",
    "    #pyautogui.write(\"DB_Receita_Edit_R_HorasEtapa\")\n",
    "    #pyautogui.write(\"DB_Receita_Edit_R_MinutosEtapa\")\n",
    "    #pyautogui.write(\"DB_Receita_Edit_R_SegundosEtapa\")\n",
    "    #pyautogui.write(\"DB_Receita_Edit_R_UmidadedaCamara\") \n",
    "    pyautogui.write(\"DB_Receita_Edit_R_TemperaturadoNucleo\")\n",
    "    if indice>9:\n",
    "        #pyautogui.press(\"backspace\") \n",
    "        valor1=indice-10\n",
    "        numero=str(valor1)\n",
    "        pyautogui.write(\"1\")\n",
    "        pyautogui.write(numero)\n",
    "    else:\n",
    "        pyautogui.write(numero)\n",
    "   \n",
    "    pyautogui.press(\"enter\") \n",
    "    time.sleep(2)  \n",
    "    #print(coordy)\n",
    "    #pyautogui.press(\"enter\")\n",
    "    indice=indice+1\n",
    "    coordy=coordy+33 \n",
    "print('Acabou')"
   ]
  },
  {
   "cell_type": "code",
   "execution_count": null,
   "id": "5583f1ef-5d79-4ca0-a4a5-eb3bf9927a5e",
   "metadata": {},
   "outputs": [],
   "source": []
  }
 ],
 "metadata": {
  "kernelspec": {
   "display_name": "Python 3 (ipykernel)",
   "language": "python",
   "name": "python3"
  },
  "language_info": {
   "codemirror_mode": {
    "name": "ipython",
    "version": 3
   },
   "file_extension": ".py",
   "mimetype": "text/x-python",
   "name": "python",
   "nbconvert_exporter": "python",
   "pygments_lexer": "ipython3",
   "version": "3.12.1"
  }
 },
 "nbformat": 4,
 "nbformat_minor": 5
}
