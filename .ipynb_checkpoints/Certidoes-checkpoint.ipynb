{
 "cells": [
  {
   "cell_type": "code",
   "execution_count": 4,
   "id": "2f9636dc-d9f3-45f5-8a0f-86ab96c9ba97",
   "metadata": {},
   "outputs": [],
   "source": [
    "import pandas as pd\n",
    "import webbrowser \n",
    "from datetime import datetime, timedelta\n",
    "#@from openpyxl import load.workbook"
   ]
  },
  {
   "cell_type": "code",
   "execution_count": 5,
   "id": "c5ceb7c1-827a-4886-9dc0-a7adf3825d19",
   "metadata": {},
   "outputs": [],
   "source": [
    "caminho = r'S:\\00_StartUp\\25_Doc_da_empresa\\Certidões\\_Validades.xlsx'\n",
    "df = pd.read_excel(caminho)\n",
    "tiposdados = df.dtypes\n",
    "#print (tiposdados)"
   ]
  },
  {
   "cell_type": "code",
   "execution_count": 6,
   "id": "6d02071c-5024-442f-b8ff-b2f6806b5811",
   "metadata": {},
   "outputs": [
    {
     "name": "stdout",
     "output_type": "stream",
     "text": [
      "A data de FGTS está vencida.\n"
     ]
    },
    {
     "name": "stdin",
     "output_type": "stream",
     "text": [
      "Pressione enter após concluir a ação \n"
     ]
    },
    {
     "name": "stdout",
     "output_type": "stream",
     "text": [
      "Terminada a verificação das certidões.\n"
     ]
    }
   ],
   "source": [
    "for index , row in df.iterrows():\n",
    "    data = row['Expira_em']\n",
    "    doc = row['Documento']\n",
    "    url = row['Site']\n",
    "\n",
    "    if pd.isnull(data) or pd.isnull(url):\n",
    "        continue\n",
    "    if data < datetime.now():\n",
    "        print(f\"A data de {doc} está vencida.\")\n",
    "        webbrowser.open(url)\n",
    "        input(\"Pressione enter após concluir a ação\")\n",
    "print(\"Terminada a verificação das certidões.\")\n"
   ]
  },
  {
   "cell_type": "code",
   "execution_count": null,
   "id": "e7d74c73-bbfb-4637-8c04-0ded8d488cca",
   "metadata": {},
   "outputs": [],
   "source": []
  }
 ],
 "metadata": {
  "kernelspec": {
   "display_name": "Python 3 (ipykernel)",
   "language": "python",
   "name": "python3"
  },
  "language_info": {
   "codemirror_mode": {
    "name": "ipython",
    "version": 3
   },
   "file_extension": ".py",
   "mimetype": "text/x-python",
   "name": "python",
   "nbconvert_exporter": "python",
   "pygments_lexer": "ipython3",
   "version": "3.12.1"
  }
 },
 "nbformat": 4,
 "nbformat_minor": 5
}
