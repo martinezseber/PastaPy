{
 "cells": [
  {
   "cell_type": "code",
   "execution_count": null,
   "metadata": {},
   "outputs": [],
   "source": [
    "import pandas as pd\n",
    "import pyodbc\n"
   ]
  },
  {
   "cell_type": "code",
   "execution_count": null,
   "metadata": {},
   "outputs": [],
   "source": [
    "# Caminho do arquivo do Access\n",
    "db_path = r'S:\\00_StartUp\\40_Dados\\Base_dados_Administrador.mdb'"
   ]
  },
  {
   "cell_type": "code",
   "execution_count": null,
   "metadata": {},
   "outputs": [],
   "source": [
    "# String de conexão utilizando o driver ODBC para o Access\n",
    "conn_str = (r'DRIVER={Microsoft Access Driver (*.mdb, *.accdb)};'\n",
    "            r'DBQ=' + db_path + ';')"
   ]
  },
  {
   "cell_type": "code",
   "execution_count": null,
   "metadata": {},
   "outputs": [],
   "source": [
    "# Estabelecer conexão com o banco de dados\n",
    "conn = pyodbc.connect(conn_str)"
   ]
  },
  {
   "cell_type": "code",
   "execution_count": null,
   "metadata": {},
   "outputs": [],
   "source": [
    "# Consulta SQL para selecionar todos os dados de uma tabela\n",
    "sql_query = \"SELECT * FROM tab_Empresa order By APELIDO\"  # Substitua NomeDaTabela pelo nome da tabela que você deseja consultar"
   ]
  },
  {
   "cell_type": "code",
   "execution_count": null,
   "metadata": {},
   "outputs": [],
   "source": [
    "\n",
    "# Carregar os dados em um DataFrame do pandas\n",
    "df = pd.read_sql(sql_query, conn)\n",
    "\n",
    "# Fechar a conexão\n"
   ]
  },
  {
   "cell_type": "code",
   "execution_count": 51,
   "metadata": {},
   "outputs": [
    {
     "name": "stdout",
     "output_type": "stream",
     "text": [
      "0                  3M\n",
      "1               A.C&F\n",
      "2                 ABB\n",
      "3       ABB Guarulhos\n",
      "4                 ABC\n",
      "            ...      \n",
      "1747            Zobor\n",
      "1748            Ztech\n",
      "1749           Zurich\n",
      "1750           Zurita\n",
      "1751         Zuritech\n",
      "Name: APELIDO, Length: 1752, dtype: object\n"
     ]
    }
   ],
   "source": [
    "print(df.APELIDO)"
   ]
  },
  {
   "cell_type": "code",
   "execution_count": null,
   "metadata": {},
   "outputs": [],
   "source": [
    "conn.close()"
   ]
  },
  {
   "cell_type": "code",
   "execution_count": null,
   "metadata": {},
   "outputs": [],
   "source": [
    "\n",
    "\n"
   ]
  }
 ],
 "metadata": {
  "kernelspec": {
   "display_name": "Python 3 (ipykernel)",
   "language": "python",
   "name": "python3"
  },
  "language_info": {
   "codemirror_mode": {
    "name": "ipython",
    "version": 3
   },
   "file_extension": ".py",
   "mimetype": "text/x-python",
   "name": "python",
   "nbconvert_exporter": "python",
   "pygments_lexer": "ipython3",
   "version": "3.12.1"
  }
 },
 "nbformat": 4,
 "nbformat_minor": 4
}
