{
 "cells": [
  {
   "cell_type": "code",
   "execution_count": 27,
   "id": "51c721ff-9193-4675-977e-0a11f5c8a30e",
   "metadata": {},
   "outputs": [],
   "source": [
    "import tkinter as tk\n",
    "from tkinter import filedialog\n",
    "import pandas as pd\n"
   ]
  },
  {
   "cell_type": "code",
   "execution_count": 28,
   "id": "e4ef6c75-ae6f-49f7-8f28-1d6893af2178",
   "metadata": {},
   "outputs": [],
   "source": [
    "def escolher_arquivo():\n",
    "    root = tk.Tk()\n",
    "    root.withdraw()\n",
    "    arquivo = filedialog.askopenfilename()\n",
    "    root.destroy()\n",
    "    return arquivo"
   ]
  },
  {
   "cell_type": "code",
   "execution_count": 29,
   "id": "eb15e42f-a3c0-4109-8310-a7d13d69e670",
   "metadata": {},
   "outputs": [],
   "source": [
    "def criar_indice_de_comentarios(arquivo):\n",
    "    frequencia_palavras = {}\n",
    "    linhas_palavras = {}\n",
    "\n",
    "    with open(arquivo, 'r', encoding='iso-8859-1') as file:\n",
    "        for numero_linha, linha in enumerate(file, start=1):\n",
    "            if linha.strip().startswith(\"'\"):\n",
    "                palavras = linha.strip().lstrip(\"'\").split()\n",
    "                for palavra in palavras:\n",
    "                    frequencia_palavras[palavra] = frequencia_palavras.get(palavra, 0) + 1\n",
    "                    if palavra not in linhas_palavras:\n",
    "                        linhas_palavras[palavra] = []\n",
    "                    linhas_palavras[palavra].append(numero_linha)\n",
    "\n",
    "    return frequencia_palavras, linhas_palavras"
   ]
  },
  {
   "cell_type": "code",
   "execution_count": 30,
   "id": "0034e0cb-f485-4742-bdb7-6570ec14495f",
   "metadata": {},
   "outputs": [],
   "source": [
    "def exportar_para_excel(frequencia, linhas):\n",
    "    # Combina as informações de frequência e linhas em um único DataFrame\n",
    "    data = []\n",
    "    for palavra, freq in frequencia.items():\n",
    "        data.append({\n",
    "            'Palavra': palavra,\n",
    "            'Frequência': freq,\n",
    "            'Linhas': ', '.join(map(str, linhas.get(palavra, [])))\n",
    "        })\n",
    "    df = pd.DataFrame(data)\n",
    "    df.sort_values(by='Frequência', ascending=False, inplace=True)  # Ordena pelo mais frequente\n",
    "\n",
    "    # Escreve o DataFrame em um arquivo Excel\n",
    "    df.to_excel('indice_comentarios.xlsx', index=False)"
   ]
  },
  {
   "cell_type": "code",
   "execution_count": 32,
   "id": "5a91e785-e155-4a4f-8e1c-eba39060822c",
   "metadata": {},
   "outputs": [
    {
     "name": "stdout",
     "output_type": "stream",
     "text": [
      "Índice exportado para 'indice_comentarios.xlsx'\n"
     ]
    }
   ],
   "source": [
    "arquivo_escolhido = escolher_arquivo()\n",
    "if arquivo_escolhido:\n",
    "    freq, lin = criar_indice_de_comentarios(arquivo_escolhido)\n",
    "    exportar_para_excel(freq, lin)\n",
    "    print(\"Índice exportado para 'indice_comentarios.xlsx'\")\n",
    "else:\n",
    "    print(\"Nenhum arquivo foi selecionado.\")"
   ]
  },
  {
   "cell_type": "markdown",
   "id": "251b47f2-1046-4d11-833b-0bbb7af2f402",
   "metadata": {},
   "source": [
    "# def exportar_para_excel(frequencia, linhas):\n",
    "    # Criando DataFrames para as frequências e as linhas\n",
    "    df_frequencia = pd.DataFrame(list(frequencia.items()), columns=['Palavra', 'Frequência'])\n",
    "    df_linhas = pd.DataFrame(list(linhas.items()), columns=['Palavra', 'Linhas'])\n",
    "    \n",
    "    # Escrevendo em uma planilha Excel\n",
    "    with pd.ExcelWriter('indice_comentarios.xlsx') as writer:\n",
    "        df_frequencia.to_excel(writer, sheet_name='Frequências', index=False)\n",
    "        df_linhas.to_excel(writer, sheet_name='Linhas', index=False)\n"
   ]
  },
  {
   "cell_type": "markdown",
   "id": "82cf6a65-72c7-47b7-9123-105216a29634",
   "metadata": {},
   "source": []
  }
 ],
 "metadata": {
  "kernelspec": {
   "display_name": "Python 3 (ipykernel)",
   "language": "python",
   "name": "python3"
  },
  "language_info": {
   "codemirror_mode": {
    "name": "ipython",
    "version": 3
   },
   "file_extension": ".py",
   "mimetype": "text/x-python",
   "name": "python",
   "nbconvert_exporter": "python",
   "pygments_lexer": "ipython3",
   "version": "3.12.1"
  }
 },
 "nbformat": 4,
 "nbformat_minor": 5
}
