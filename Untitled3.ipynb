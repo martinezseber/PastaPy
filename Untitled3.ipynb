{
 "cells": [
  {
   "cell_type": "code",
   "execution_count": 2,
   "id": "de7a4433-d767-4407-9b0f-e249335aede8",
   "metadata": {},
   "outputs": [],
   "source": [
    "import pandas as pd\n",
    "import seaborn as sns\n",
    "data = pd.read_csv(\"M:\\\\exportaAI.csv\", sep=';',decimal=',')"
   ]
  },
  {
   "cell_type": "code",
   "execution_count": 3,
   "id": "67080c3a-5465-46ce-9f26-1094779cf853",
   "metadata": {},
   "outputs": [
    {
     "name": "stdout",
     "output_type": "stream",
     "text": [
      "                DateTime  Cap_Com_B1  Cap_Com_B2  Cap_Com_B3  Cap_Sts_B1  \\\n",
      "0      15/08/23 11:27:46           0           1           0           0   \n",
      "1      15/08/23 11:32:46           0           1           0           0   \n",
      "2      15/08/23 11:37:46           0           1           0           0   \n",
      "3      15/08/23 11:42:46           0           1           0           0   \n",
      "4      15/08/23 11:47:46           0           1           0           0   \n",
      "...                  ...         ...         ...         ...         ...   \n",
      "43429  13/01/24 15:24:42           0           1           0           0   \n",
      "43430  13/01/24 15:29:42           0           1           0           0   \n",
      "43431  13/01/24 15:34:42           0           1           0           0   \n",
      "43432  13/01/24 15:39:42           0           1           0           0   \n",
      "43433  13/01/24 15:44:43           0           1           0           0   \n",
      "\n",
      "       Cap_Sts_B2  Cap_Sts_B3  Cap_Def_B1  Cap_Def_B2  Cap_Def_B3  ...  \\\n",
      "0               1           0           0           0           0  ...   \n",
      "1               1           0           0           0           0  ...   \n",
      "2               1           0           0           0           0  ...   \n",
      "3               1           0           0           0           0  ...   \n",
      "4               1           0           0           0           0  ...   \n",
      "...           ...         ...         ...         ...         ...  ...   \n",
      "43429           1           0           0           0           0  ...   \n",
      "43430           1           0           0           0           0  ...   \n",
      "43431           1           0           0           0           0  ...   \n",
      "43432           1           0           0           0           0  ...   \n",
      "43433           1           0           0           0           0  ...   \n",
      "\n",
      "       Eta_Sts_Boo1  Eta_Sts_Boo2  Eta_Sts_Vav1  Eta_Sts_Vav2  Eta_Sts_Vav3  \\\n",
      "0                 1             1             1             1             0   \n",
      "1                 1             1             1             1             0   \n",
      "2                 1             1             1             1             0   \n",
      "3                 1             1             1             1             0   \n",
      "4                 1             1             1             1             0   \n",
      "...             ...           ...           ...           ...           ...   \n",
      "43429             1             0             1             0             0   \n",
      "43430             1             0             1             0             0   \n",
      "43431             1             0             1             0             0   \n",
      "43432             1             0             1             0             0   \n",
      "43433             1             0             1             0             0   \n",
      "\n",
      "       Eta_Sts_Vav4  Eta_Sts_Vav5  Eta_Sts_Vav6  NivElevado  NivApoado  \n",
      "0                 0             0             1       19.72       2.88  \n",
      "1                 0             0             1       19.80       2.82  \n",
      "2                 0             0             1       19.85       2.77  \n",
      "3                 0             0             1       19.87       2.72  \n",
      "4                 0             0             1       19.92       2.67  \n",
      "...             ...           ...           ...         ...        ...  \n",
      "43429             0             1             1       19.91       3.52  \n",
      "43430             0             1             1       19.97       3.49  \n",
      "43431             0             1             1       20.03       3.45  \n",
      "43432             0             1             1       20.12       3.43  \n",
      "43433             0             1             1       20.20       3.40  \n",
      "\n",
      "[43434 rows x 39 columns]\n"
     ]
    }
   ],
   "source": [
    "print (data)\n"
   ]
  },
  {
   "cell_type": "code",
   "execution_count": null,
   "id": "e69e869c-8d39-4444-ac00-d3757e50921a",
   "metadata": {},
   "outputs": [],
   "source": []
  }
 ],
 "metadata": {
  "kernelspec": {
   "display_name": "Python 3 (ipykernel)",
   "language": "python",
   "name": "python3"
  },
  "language_info": {
   "codemirror_mode": {
    "name": "ipython",
    "version": 3
   },
   "file_extension": ".py",
   "mimetype": "text/x-python",
   "name": "python",
   "nbconvert_exporter": "python",
   "pygments_lexer": "ipython3",
   "version": "3.12.1"
  }
 },
 "nbformat": 4,
 "nbformat_minor": 5
}
